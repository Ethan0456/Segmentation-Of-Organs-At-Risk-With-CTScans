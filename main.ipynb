{
 "cells": [
  {
   "cell_type": "code",
   "execution_count": null,
   "metadata": {},
   "outputs": [],
   "source": [
    "## Download Data\n",
    "\n",
    "from data.Download import Download\n",
    "\n",
    "# Default Download dir 'asperaDownloads'\n",
    "# Default Data CT-Org\n",
    "# Parameters : download_link, download_dir\n",
    "data_downloader = Download().download()"
   ]
  }
 ],
 "metadata": {
  "language_info": {
   "name": "python"
  },
  "orig_nbformat": 4
 },
 "nbformat": 4,
 "nbformat_minor": 2
}
