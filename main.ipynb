{
 "cells": [
  {
   "cell_type": "code",
   "execution_count": null,
   "metadata": {},
   "outputs": [],
   "source": [
    "## Download Data\n",
    "\n",
    "from data.Download import Download\n",
    "\n",
    "# Default Download dir 'asperaDownloads'\n",
    "# Default Data CT-Org\n",
    "# Parameters : download_link, download_dir\n",
    "data_downloader = Download().download()"
   ]
  },
  {
   "cell_type": "code",
   "execution_count": 11,
   "metadata": {},
   "outputs": [
    {
     "name": "stdout",
     "output_type": "stream",
     "text": [
      "Requirement already satisfied: patchify in ./minor-project-env/lib/python3.10/site-packages (0.2.3)\n",
      "Requirement already satisfied: numpy<2,>=1 in ./minor-project-env/lib/python3.10/site-packages (from patchify) (1.26.0)\n",
      "Collecting nibabel\n",
      "  Using cached nibabel-5.1.0-py3-none-any.whl (3.3 MB)\n",
      "Requirement already satisfied: numpy>=1.19 in ./minor-project-env/lib/python3.10/site-packages (from nibabel) (1.26.0)\n",
      "Requirement already satisfied: packaging>=17 in ./minor-project-env/lib/python3.10/site-packages (from nibabel) (23.1)\n",
      "Installing collected packages: nibabel\n",
      "Successfully installed nibabel-5.1.0\n"
     ]
    }
   ],
   "source": [
    "!pip3 install patchify\n",
    "!pip3 install nibabel"
   ]
  },
  {
   "cell_type": "code",
   "execution_count": 1,
   "metadata": {},
   "outputs": [],
   "source": [
    "# Support Functions\n",
    "import gc\n",
    "import patchify"
   ]
  },
  {
   "cell_type": "code",
   "execution_count": 2,
   "metadata": {},
   "outputs": [
    {
     "data": {
      "text/plain": [
       "(['/Users/abhijeetsingh/Downloads/Organ-at-Risk-Papers/data/volume-81.nii.gz',\n",
       "  '/Users/abhijeetsingh/Downloads/Organ-at-Risk-Papers/data/volume-80.nii.gz',\n",
       "  '/Users/abhijeetsingh/Downloads/Organ-at-Risk-Papers/data/volume-81.npy',\n",
       "  '/Users/abhijeetsingh/Downloads/Organ-at-Risk-Papers/data/volume-81.nii.gz.npy'],\n",
       " ['/Users/abhijeetsingh/Downloads/Organ-at-Risk-Papers/data/labels-81.nii.gz',\n",
       "  '/Users/abhijeetsingh/Downloads/Organ-at-Risk-Papers/data/labels-80.nii.gz'])"
      ]
     },
     "execution_count": 2,
     "metadata": {},
     "output_type": "execute_result"
    }
   ],
   "source": [
    "import glob\n",
    "\n",
    "data_path = '/Users/abhijeetsingh/Downloads/Organ-at-Risk-Papers/data'\n",
    "volumes = [file for file in glob.glob(data_path+'/volume-*')]\n",
    "labels = [file for file in glob.glob(data_path+'/labels-*')]\n",
    "\n",
    "volumes, labels"
   ]
  },
  {
   "cell_type": "code",
   "execution_count": null,
   "metadata": {},
   "outputs": [],
   "source": []
  },
  {
   "cell_type": "code",
   "execution_count": null,
   "metadata": {},
   "outputs": [],
   "source": []
  },
  {
   "cell_type": "code",
   "execution_count": null,
   "metadata": {},
   "outputs": [],
   "source": []
  }
 ],
 "metadata": {
  "kernelspec": {
   "display_name": "Python 3",
   "language": "python",
   "name": "python3"
  },
  "language_info": {
   "codemirror_mode": {
    "name": "ipython",
    "version": 3
   },
   "file_extension": ".py",
   "mimetype": "text/x-python",
   "name": "python",
   "nbconvert_exporter": "python",
   "pygments_lexer": "ipython3",
   "version": "3.10.13"
  },
  "orig_nbformat": 4
 },
 "nbformat": 4,
 "nbformat_minor": 2
}
